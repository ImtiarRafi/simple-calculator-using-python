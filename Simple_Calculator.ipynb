{
  "nbformat": 4,
  "nbformat_minor": 0,
  "metadata": {
    "colab": {
      "provenance": []
    },
    "kernelspec": {
      "name": "python3",
      "display_name": "Python 3"
    },
    "language_info": {
      "name": "python"
    }
  },
  "cells": [
    {
      "cell_type": "code",
      "execution_count": 1,
      "metadata": {
        "id": "v8pImcoHS8ME"
      },
      "outputs": [],
      "source": [
        "def sum(a,b):\n",
        "  return a+b"
      ]
    },
    {
      "cell_type": "code",
      "source": [
        "def sub(a,b):\n",
        "  return a-b"
      ],
      "metadata": {
        "id": "C3sEepjRX8qV"
      },
      "execution_count": 2,
      "outputs": []
    },
    {
      "cell_type": "code",
      "source": [
        "def mul(a,b):\n",
        "  return a*b"
      ],
      "metadata": {
        "id": "0NoDtocMYMOw"
      },
      "execution_count": 3,
      "outputs": []
    },
    {
      "cell_type": "code",
      "source": [
        "def div(a,b):\n",
        "  return a/b"
      ],
      "metadata": {
        "id": "RIkmTU9FYRxD"
      },
      "execution_count": 4,
      "outputs": []
    },
    {
      "cell_type": "code",
      "source": [
        "def power(a,b):\n",
        "  return a**b"
      ],
      "metadata": {
        "id": "RZtiCYIUYYfB"
      },
      "execution_count": 5,
      "outputs": []
    },
    {
      "cell_type": "code",
      "source": [
        "def mod(a,b):\n",
        "  return a%b\n"
      ],
      "metadata": {
        "id": "PiApSqlsYr7m"
      },
      "execution_count": 6,
      "outputs": []
    },
    {
      "cell_type": "code",
      "source": [
        "def main():\n",
        "  print('     Welcome to our simple calculator      ')\n",
        "  cal = int(input('Press 1 for Addition\\nPress 2 for Subtraction\\nPress 3 for Multiplication\\nPress 4 for Division\\nPress 5 for Power\\nPress 6 for Modulus\\n'))\n",
        "\n",
        "  num1 = float(input('Enter first number : '))\n",
        "  num2 = float(input('Enter second number : '))\n",
        "\n",
        "  if cal==1:\n",
        "    result = sum(num1,num2)\n",
        "    print(' The result of summation : ',result)\n",
        "  elif cal ==2:\n",
        "    result = sub(num1,num2)\n",
        "    print(' The result of subtraction : ', result)\n",
        "  elif cal == 3:\n",
        "    result = mul(num1,num2)\n",
        "    print(' The result of multiplication : ', result)\n",
        "  elif cal == 4:\n",
        "    result = div(num1,num2)\n",
        "    print(' The result of division : ', result)\n",
        "  elif cal == 5:\n",
        "    result = power(num1,num2)\n",
        "    print(' The result of power : ',result)\n",
        "  elif cal == 6:\n",
        "    result = mod(num1,num2)\n",
        "    print(' The result of modulus : ',result)\n",
        "  else:\n",
        "    print(' Please press 1-6 to perform calculation')\n"
      ],
      "metadata": {
        "id": "IVESnfdYapI9"
      },
      "execution_count": 7,
      "outputs": []
    },
    {
      "cell_type": "code",
      "source": [
        "main()"
      ],
      "metadata": {
        "colab": {
          "base_uri": "https://localhost:8080/"
        },
        "id": "L2pMtSxInF8g",
        "outputId": "d7dd6c43-c30b-4ce3-a9f0-1f206e21062d"
      },
      "execution_count": 10,
      "outputs": [
        {
          "output_type": "stream",
          "name": "stdout",
          "text": [
            "     Welcome to our simple calculator      \n",
            "Press 1 for Addition\n",
            "Press 2 for Subtraction\n",
            "Press 3 for Multiplication\n",
            "Press 4 for Division\n",
            "Press 5 for Power\n",
            "Press 6 for Modulus\n",
            "6\n",
            "Enter first number : 65\n",
            "Enter second number : 6\n",
            " The result of modulus :  5.0\n"
          ]
        }
      ]
    }
  ]
}